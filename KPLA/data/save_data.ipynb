{
 "cells": [
  {
   "cell_type": "code",
   "execution_count": 1,
   "metadata": {},
   "outputs": [],
   "source": [
    "import os\n",
    "import numpy as np\n",
    "import matplotlib.pyplot as plt\n",
    "\n",
    "from KPLA.data.data_generator import (\n",
    "    gen_multienv_class_discrete_z,\n",
    "    convert_to_numpy,\n",
    ")"
   ]
  },
  {
   "cell_type": "markdown",
   "metadata": {},
   "source": [
    "# Parameters"
   ]
  },
  {
   "cell_type": "code",
   "execution_count": 30,
   "metadata": {},
   "outputs": [],
   "source": [
    "start_seed = 1922\n",
    "end_seed = 1931\n",
    "n_env = 3\n",
    "task = 3\n",
    "\n",
    "target_path = \"/home/nschiou2/proxy_latent_shifts/tests/binaryclf_multisource/tmp_data_orig/\""
   ]
  },
  {
   "cell_type": "markdown",
   "metadata": {},
   "source": [
    "# Generate data"
   ]
  },
  {
   "cell_type": "code",
   "execution_count": 31,
   "metadata": {},
   "outputs": [],
   "source": [
    "partition_dict = {\"train\": 0.8, \"test\": 0.2}\n",
    "source_n = 4000\n",
    "target_n = 12000\n",
    "\n",
    "# Generate source with 3 environments\n",
    "for seed in range(start_seed, end_seed + 1):\n",
    "\n",
    "    save_path = os.path.join(target_path, f\"task_{task}\", f\"seed{seed}\")\n",
    "    os.makedirs(save_path, exist_ok=True)\n",
    "\n",
    "    for z_env in range(n_env):\n",
    "        source_train, source_test = gen_multienv_class_discrete_z(\n",
    "            z_env, seed + z_env, source_n, task, partition_dict\n",
    "        )\n",
    "        np.save(\n",
    "            os.path.join(save_path, f\"source_{z_env}_seed{seed}_train.npy\"),\n",
    "            convert_to_numpy(source_train.copy()),\n",
    "            allow_pickle=True,\n",
    "        )\n",
    "        np.save(\n",
    "            os.path.join(save_path, f\"source_{z_env}_seed{seed}_test.npy\"),\n",
    "            convert_to_numpy(source_test.copy()),\n",
    "            allow_pickle=True,\n",
    "        )\n",
    "\n",
    "\n",
    "    target_train, target_test = gen_multienv_class_discrete_z(\n",
    "        n_env + 1,\n",
    "        seed + n_env + 1,\n",
    "        target_n,\n",
    "        task,\n",
    "        partition_dict,\n",
    "    )\n",
    "    np.save(\n",
    "        os.path.join(save_path, f\"target_seed{seed}_train.npy\"),\n",
    "        convert_to_numpy(target_train.copy()),\n",
    "        allow_pickle=True,\n",
    "    )\n",
    "    np.save(\n",
    "        os.path.join(save_path, f\"target_seed{seed}_test.npy\"),\n",
    "        convert_to_numpy(target_test.copy()),\n",
    "        allow_pickle=True,\n",
    "    )"
   ]
  },
  {
   "cell_type": "code",
   "execution_count": null,
   "metadata": {},
   "outputs": [],
   "source": []
  }
 ],
 "metadata": {
  "kernelspec": {
   "display_name": "proxy",
   "language": "python",
   "name": "python3"
  },
  "language_info": {
   "codemirror_mode": {
    "name": "ipython",
    "version": 3
   },
   "file_extension": ".py",
   "mimetype": "text/x-python",
   "name": "python",
   "nbconvert_exporter": "python",
   "pygments_lexer": "ipython3",
   "version": "3.9.18"
  }
 },
 "nbformat": 4,
 "nbformat_minor": 2
}
