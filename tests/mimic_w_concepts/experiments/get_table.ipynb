{
 "cells": [
  {
   "cell_type": "markdown",
   "id": "48d72683",
   "metadata": {},
   "source": [
    "# Visualize Results"
   ]
  },
  {
   "cell_type": "code",
   "execution_count": 1,
   "id": "a845697f",
   "metadata": {},
   "outputs": [],
   "source": [
    "%load_ext autoreload\n",
    "%autoreload 2\n",
    "\n",
    "import os, sys\n",
    "import glob\n",
    "from functools import partial\n",
    "from tqdm.auto import tqdm\n",
    "import pickle\n",
    "\n",
    "import numpy as np\n",
    "import scipy\n",
    "from scipy.stats import sem\n",
    "import pandas as pd"
   ]
  },
  {
   "cell_type": "markdown",
   "id": "d3e1a839",
   "metadata": {},
   "source": [
    "## Baselines"
   ]
  },
  {
   "cell_type": "code",
   "execution_count": 2,
   "id": "08a56838",
   "metadata": {},
   "outputs": [],
   "source": [
    "results_dir = \"/home/oes2/proxy_latent_shifts/tests/mimic_w_concepts/experiments/results_svm\""
   ]
  },
  {
   "cell_type": "code",
   "execution_count": 3,
   "id": "d1425c42",
   "metadata": {},
   "outputs": [
    {
     "data": {
      "application/vnd.jupyter.widget-view+json": {
       "model_id": "",
       "version_major": 2,
       "version_minor": 0
      },
      "text/plain": [
       "  0%|          | 0/10 [00:00<?, ?it/s]"
      ]
     },
     "metadata": {},
     "output_type": "display_data"
    }
   ],
   "source": [
    "RESULTS = []\n",
    "\n",
    "for f in tqdm(os.listdir(results_dir)):\n",
    "  pkl_file = glob.glob(\n",
    "    os.path.join(results_dir, f, '*.pkl'),\n",
    "  )[0]\n",
    "  RESULTS.append(pickle.load(open(pkl_file, 'rb'))['summary'])\n",
    "\n",
    "RESULTS_DF = pd.concat(RESULTS, axis=0)"
   ]
  },
  {
   "cell_type": "code",
   "execution_count": 4,
   "id": "7c656026",
   "metadata": {},
   "outputs": [],
   "source": [
    "df = RESULTS_DF\n",
    "# Function to calculate mean and confidence interval\n",
    "def mean_confidence_interval(data, confidence=0.95):\n",
    "    a = 1.0 * np.array(data)\n",
    "    n = len(a)\n",
    "    m, se = np.mean(a), sem(a)\n",
    "    h = se * scipy.stats.t.ppf((1 + confidence) / 2., n-1)\n",
    "    return f\"{m:.3f} ({h:.3f})\"\n",
    "\n",
    "# Group by 'approach' column\n",
    "grouped = df.groupby('approach')\n",
    "\n",
    "# Aggregate using mean and confidence interval\n",
    "aggregated_df = grouped.agg(partial(mean_confidence_interval, confidence=0.95))\n",
    "\n",
    "# Rename columns\n",
    "aggregated_df.columns = [f'{col}_mean_ci' for col in aggregated_df.columns]\n",
    "\n",
    "# Reset index to make 'approach' a column again\n",
    "aggregated_df = aggregated_df.reset_index()\n",
    "\n",
    "# If you want to remove the '_mean' and '_ci' suffixes from the columns\n",
    "aggregated_df.columns = [col.replace('_mean', '').replace('_ci', '') for col in aggregated_df.columns]\n",
    "\n",
    "# Now, aggregated_df contains the mean and confidence interval for each column grouped by 'approach'"
   ]
  },
  {
   "cell_type": "code",
   "execution_count": 5,
   "id": "f4211ef3",
   "metadata": {},
   "outputs": [
    {
     "data": {
      "text/html": [
       "<div>\n",
       "<style scoped>\n",
       "    .dataframe tbody tr th:only-of-type {\n",
       "        vertical-align: middle;\n",
       "    }\n",
       "\n",
       "    .dataframe tbody tr th {\n",
       "        vertical-align: top;\n",
       "    }\n",
       "\n",
       "    .dataframe thead th {\n",
       "        text-align: right;\n",
       "    }\n",
       "</style>\n",
       "<table border=\"1\" class=\"dataframe\">\n",
       "  <thead>\n",
       "    <tr style=\"text-align: right;\">\n",
       "      <th></th>\n",
       "      <th>approach</th>\n",
       "      <th>source -&gt; source acc</th>\n",
       "      <th>source -&gt; target acc</th>\n",
       "      <th>source -&gt; source auc</th>\n",
       "      <th>source -&gt; target auc</th>\n",
       "      <th>target -&gt; target acc</th>\n",
       "      <th>target -&gt; source acc</th>\n",
       "      <th>target -&gt; target auc</th>\n",
       "      <th>target -&gt; source auc</th>\n",
       "    </tr>\n",
       "    <tr>\n",
       "      <th>approach</th>\n",
       "      <th></th>\n",
       "      <th></th>\n",
       "      <th></th>\n",
       "      <th></th>\n",
       "      <th></th>\n",
       "      <th></th>\n",
       "      <th></th>\n",
       "      <th></th>\n",
       "      <th></th>\n",
       "    </tr>\n",
       "  </thead>\n",
       "  <tbody>\n",
       "    <tr>\n",
       "      <th>COVAR</th>\n",
       "      <td>COVAR</td>\n",
       "      <td>0.762 (0.000)</td>\n",
       "      <td>0.796 (0.000)</td>\n",
       "      <td>0.736 (0.001)</td>\n",
       "      <td>0.776 (0.000)</td>\n",
       "      <td>0.867 (0.001)</td>\n",
       "      <td>0.730 (0.003)</td>\n",
       "      <td>0.861 (0.001)</td>\n",
       "      <td>0.694 (0.004)</td>\n",
       "    </tr>\n",
       "    <tr>\n",
       "      <th>ERM</th>\n",
       "      <td>ERM</td>\n",
       "      <td>0.762 (0.001)</td>\n",
       "      <td>0.794 (0.000)</td>\n",
       "      <td>0.732 (0.000)</td>\n",
       "      <td>0.773 (0.000)</td>\n",
       "      <td>0.858 (0.000)</td>\n",
       "      <td>0.735 (0.001)</td>\n",
       "      <td>0.852 (0.000)</td>\n",
       "      <td>0.699 (0.001)</td>\n",
       "    </tr>\n",
       "    <tr>\n",
       "      <th>LABEL</th>\n",
       "      <td>LABEL</td>\n",
       "      <td>0.754 (0.001)</td>\n",
       "      <td>0.802 (0.000)</td>\n",
       "      <td>0.740 (0.001)</td>\n",
       "      <td>0.789 (0.001)</td>\n",
       "      <td>0.869 (0.001)</td>\n",
       "      <td>0.732 (0.002)</td>\n",
       "      <td>0.864 (0.001)</td>\n",
       "      <td>0.698 (0.002)</td>\n",
       "    </tr>\n",
       "  </tbody>\n",
       "</table>\n",
       "</div>"
      ],
      "text/plain": [
       "         approach source -> source acc source -> target acc  \\\n",
       "approach                                                      \n",
       "COVAR       COVAR        0.762 (0.000)        0.796 (0.000)   \n",
       "ERM           ERM        0.762 (0.001)        0.794 (0.000)   \n",
       "LABEL       LABEL        0.754 (0.001)        0.802 (0.000)   \n",
       "\n",
       "         source -> source auc source -> target auc target -> target acc  \\\n",
       "approach                                                                  \n",
       "COVAR           0.736 (0.001)        0.776 (0.000)        0.867 (0.001)   \n",
       "ERM             0.732 (0.000)        0.773 (0.000)        0.858 (0.000)   \n",
       "LABEL           0.740 (0.001)        0.789 (0.001)        0.869 (0.001)   \n",
       "\n",
       "         target -> source acc target -> target auc target -> source auc  \n",
       "approach                                                                 \n",
       "COVAR           0.730 (0.003)        0.861 (0.001)        0.694 (0.004)  \n",
       "ERM             0.735 (0.001)        0.852 (0.000)        0.699 (0.001)  \n",
       "LABEL           0.732 (0.002)        0.864 (0.001)        0.698 (0.002)  "
      ]
     },
     "execution_count": 5,
     "metadata": {},
     "output_type": "execute_result"
    }
   ],
   "source": [
    "aggregated_df.index = aggregated_df.approach\n",
    "aggregated_df"
   ]
  },
  {
   "cell_type": "markdown",
   "id": "a9ebf3ca",
   "metadata": {},
   "source": [
    "## Proposed"
   ]
  },
  {
   "cell_type": "code",
   "execution_count": 6,
   "id": "f36a752b",
   "metadata": {},
   "outputs": [],
   "source": [
    "proposed_results_dir = \"/home/oes2/proxy_latent_shifts/tests/mimic_w_concepts/experiments/proposed_results\""
   ]
  },
  {
   "cell_type": "code",
   "execution_count": 7,
   "id": "0c92e91c",
   "metadata": {},
   "outputs": [
    {
     "data": {
      "application/vnd.jupyter.widget-view+json": {
       "model_id": "",
       "version_major": 2,
       "version_minor": 0
      },
      "text/plain": [
       "  0%|          | 0/10 [00:00<?, ?it/s]"
      ]
     },
     "metadata": {},
     "output_type": "display_data"
    }
   ],
   "source": [
    "PROPOSED_RESULTS = []\n",
    "\n",
    "for f in tqdm(os.listdir(proposed_results_dir)):\n",
    "  try:\n",
    "    pkl_file = glob.glob(\n",
    "      os.path.join(proposed_results_dir, f, '*.csv'),\n",
    "    )[0]\n",
    "  except:\n",
    "    continue\n",
    "  PROPOSED_RESULTS.append(pd.read_csv(pkl_file))\n",
    "\n",
    "PROPOSED_RESULTS_DF = pd.concat(PROPOSED_RESULTS, axis=0)"
   ]
  },
  {
   "cell_type": "code",
   "execution_count": 8,
   "id": "448679f6",
   "metadata": {},
   "outputs": [
    {
     "data": {
      "text/html": [
       "<div>\n",
       "<style scoped>\n",
       "    .dataframe tbody tr th:only-of-type {\n",
       "        vertical-align: middle;\n",
       "    }\n",
       "\n",
       "    .dataframe tbody tr th {\n",
       "        vertical-align: top;\n",
       "    }\n",
       "\n",
       "    .dataframe thead th {\n",
       "        text-align: right;\n",
       "    }\n",
       "</style>\n",
       "<table border=\"1\" class=\"dataframe\">\n",
       "  <thead>\n",
       "    <tr style=\"text-align: right;\">\n",
       "      <th></th>\n",
       "      <th>task</th>\n",
       "      <th>predict error.hard_acc</th>\n",
       "      <th>predict error.auc</th>\n",
       "    </tr>\n",
       "  </thead>\n",
       "  <tbody>\n",
       "    <tr>\n",
       "      <th>0</th>\n",
       "      <td>source-source</td>\n",
       "      <td>0.738</td>\n",
       "      <td>0.802936</td>\n",
       "    </tr>\n",
       "    <tr>\n",
       "      <th>1</th>\n",
       "      <td>target-source</td>\n",
       "      <td>0.714</td>\n",
       "      <td>0.758699</td>\n",
       "    </tr>\n",
       "    <tr>\n",
       "      <th>2</th>\n",
       "      <td>target-target</td>\n",
       "      <td>0.830</td>\n",
       "      <td>0.896108</td>\n",
       "    </tr>\n",
       "    <tr>\n",
       "      <th>3</th>\n",
       "      <td>source-target</td>\n",
       "      <td>0.784</td>\n",
       "      <td>0.863498</td>\n",
       "    </tr>\n",
       "    <tr>\n",
       "      <th>4</th>\n",
       "      <td>adaptation</td>\n",
       "      <td>0.806</td>\n",
       "      <td>0.882594</td>\n",
       "    </tr>\n",
       "  </tbody>\n",
       "</table>\n",
       "</div>"
      ],
      "text/plain": [
       "            task  predict error.hard_acc  predict error.auc\n",
       "0  source-source                   0.738           0.802936\n",
       "1  target-source                   0.714           0.758699\n",
       "2  target-target                   0.830           0.896108\n",
       "3  source-target                   0.784           0.863498\n",
       "4     adaptation                   0.806           0.882594"
      ]
     },
     "execution_count": 8,
     "metadata": {},
     "output_type": "execute_result"
    }
   ],
   "source": [
    "PROPOSED_RESULTS_DF.head()"
   ]
  },
  {
   "cell_type": "code",
   "execution_count": 13,
   "id": "e70cef80",
   "metadata": {},
   "outputs": [],
   "source": [
    "proposed_aggregated_df = PROPOSED_RESULTS_DF[PROPOSED_RESULTS_DF.task == 'adaptation'].reset_index()\n",
    "proposed_oracle_aggregated_df = PROPOSED_RESULTS_DF[PROPOSED_RESULTS_DF.task == 'target-target'].reset_index()"
   ]
  },
  {
   "cell_type": "code",
   "execution_count": 14,
   "id": "6fee49f0",
   "metadata": {},
   "outputs": [
    {
     "data": {
      "text/html": [
       "<div>\n",
       "<style scoped>\n",
       "    .dataframe tbody tr th:only-of-type {\n",
       "        vertical-align: middle;\n",
       "    }\n",
       "\n",
       "    .dataframe tbody tr th {\n",
       "        vertical-align: top;\n",
       "    }\n",
       "\n",
       "    .dataframe thead th {\n",
       "        text-align: right;\n",
       "    }\n",
       "</style>\n",
       "<table border=\"1\" class=\"dataframe\">\n",
       "  <thead>\n",
       "    <tr style=\"text-align: right;\">\n",
       "      <th></th>\n",
       "      <th>index</th>\n",
       "      <th>task</th>\n",
       "      <th>predict error.hard_acc</th>\n",
       "      <th>predict error.auc</th>\n",
       "    </tr>\n",
       "  </thead>\n",
       "  <tbody>\n",
       "    <tr>\n",
       "      <th>0</th>\n",
       "      <td>4</td>\n",
       "      <td>adaptation</td>\n",
       "      <td>0.806</td>\n",
       "      <td>0.882594</td>\n",
       "    </tr>\n",
       "    <tr>\n",
       "      <th>1</th>\n",
       "      <td>4</td>\n",
       "      <td>adaptation</td>\n",
       "      <td>0.812</td>\n",
       "      <td>0.889557</td>\n",
       "    </tr>\n",
       "    <tr>\n",
       "      <th>2</th>\n",
       "      <td>4</td>\n",
       "      <td>adaptation</td>\n",
       "      <td>0.810</td>\n",
       "      <td>0.888210</td>\n",
       "    </tr>\n",
       "    <tr>\n",
       "      <th>3</th>\n",
       "      <td>4</td>\n",
       "      <td>adaptation</td>\n",
       "      <td>0.792</td>\n",
       "      <td>0.874598</td>\n",
       "    </tr>\n",
       "    <tr>\n",
       "      <th>4</th>\n",
       "      <td>4</td>\n",
       "      <td>adaptation</td>\n",
       "      <td>0.802</td>\n",
       "      <td>0.889064</td>\n",
       "    </tr>\n",
       "    <tr>\n",
       "      <th>5</th>\n",
       "      <td>4</td>\n",
       "      <td>adaptation</td>\n",
       "      <td>0.798</td>\n",
       "      <td>0.887110</td>\n",
       "    </tr>\n",
       "    <tr>\n",
       "      <th>6</th>\n",
       "      <td>4</td>\n",
       "      <td>adaptation</td>\n",
       "      <td>0.816</td>\n",
       "      <td>0.886273</td>\n",
       "    </tr>\n",
       "    <tr>\n",
       "      <th>7</th>\n",
       "      <td>4</td>\n",
       "      <td>adaptation</td>\n",
       "      <td>0.798</td>\n",
       "      <td>0.879031</td>\n",
       "    </tr>\n",
       "    <tr>\n",
       "      <th>8</th>\n",
       "      <td>4</td>\n",
       "      <td>adaptation</td>\n",
       "      <td>0.786</td>\n",
       "      <td>0.878555</td>\n",
       "    </tr>\n",
       "    <tr>\n",
       "      <th>9</th>\n",
       "      <td>4</td>\n",
       "      <td>adaptation</td>\n",
       "      <td>0.812</td>\n",
       "      <td>0.887947</td>\n",
       "    </tr>\n",
       "  </tbody>\n",
       "</table>\n",
       "</div>"
      ],
      "text/plain": [
       "   index        task  predict error.hard_acc  predict error.auc\n",
       "0      4  adaptation                   0.806           0.882594\n",
       "1      4  adaptation                   0.812           0.889557\n",
       "2      4  adaptation                   0.810           0.888210\n",
       "3      4  adaptation                   0.792           0.874598\n",
       "4      4  adaptation                   0.802           0.889064\n",
       "5      4  adaptation                   0.798           0.887110\n",
       "6      4  adaptation                   0.816           0.886273\n",
       "7      4  adaptation                   0.798           0.879031\n",
       "8      4  adaptation                   0.786           0.878555\n",
       "9      4  adaptation                   0.812           0.887947"
      ]
     },
     "execution_count": 14,
     "metadata": {},
     "output_type": "execute_result"
    }
   ],
   "source": [
    "proposed_aggregated_df"
   ]
  },
  {
   "cell_type": "code",
   "execution_count": 15,
   "id": "64593546",
   "metadata": {},
   "outputs": [
    {
     "data": {
      "text/html": [
       "<div>\n",
       "<style scoped>\n",
       "    .dataframe tbody tr th:only-of-type {\n",
       "        vertical-align: middle;\n",
       "    }\n",
       "\n",
       "    .dataframe tbody tr th {\n",
       "        vertical-align: top;\n",
       "    }\n",
       "\n",
       "    .dataframe thead th {\n",
       "        text-align: right;\n",
       "    }\n",
       "</style>\n",
       "<table border=\"1\" class=\"dataframe\">\n",
       "  <thead>\n",
       "    <tr style=\"text-align: right;\">\n",
       "      <th></th>\n",
       "      <th>index</th>\n",
       "      <th>task</th>\n",
       "      <th>predict error.hard_acc</th>\n",
       "      <th>predict error.auc</th>\n",
       "    </tr>\n",
       "  </thead>\n",
       "  <tbody>\n",
       "    <tr>\n",
       "      <th>0</th>\n",
       "      <td>2</td>\n",
       "      <td>target-target</td>\n",
       "      <td>0.830</td>\n",
       "      <td>0.896108</td>\n",
       "    </tr>\n",
       "    <tr>\n",
       "      <th>1</th>\n",
       "      <td>2</td>\n",
       "      <td>target-target</td>\n",
       "      <td>0.818</td>\n",
       "      <td>0.902381</td>\n",
       "    </tr>\n",
       "    <tr>\n",
       "      <th>2</th>\n",
       "      <td>2</td>\n",
       "      <td>target-target</td>\n",
       "      <td>0.820</td>\n",
       "      <td>0.894975</td>\n",
       "    </tr>\n",
       "    <tr>\n",
       "      <th>3</th>\n",
       "      <td>2</td>\n",
       "      <td>target-target</td>\n",
       "      <td>0.804</td>\n",
       "      <td>0.885107</td>\n",
       "    </tr>\n",
       "    <tr>\n",
       "      <th>4</th>\n",
       "      <td>2</td>\n",
       "      <td>target-target</td>\n",
       "      <td>0.812</td>\n",
       "      <td>0.893530</td>\n",
       "    </tr>\n",
       "    <tr>\n",
       "      <th>5</th>\n",
       "      <td>2</td>\n",
       "      <td>target-target</td>\n",
       "      <td>0.814</td>\n",
       "      <td>0.895107</td>\n",
       "    </tr>\n",
       "    <tr>\n",
       "      <th>6</th>\n",
       "      <td>2</td>\n",
       "      <td>target-target</td>\n",
       "      <td>0.824</td>\n",
       "      <td>0.892972</td>\n",
       "    </tr>\n",
       "    <tr>\n",
       "      <th>7</th>\n",
       "      <td>2</td>\n",
       "      <td>target-target</td>\n",
       "      <td>0.810</td>\n",
       "      <td>0.891806</td>\n",
       "    </tr>\n",
       "    <tr>\n",
       "      <th>8</th>\n",
       "      <td>2</td>\n",
       "      <td>target-target</td>\n",
       "      <td>0.796</td>\n",
       "      <td>0.893333</td>\n",
       "    </tr>\n",
       "    <tr>\n",
       "      <th>9</th>\n",
       "      <td>2</td>\n",
       "      <td>target-target</td>\n",
       "      <td>0.814</td>\n",
       "      <td>0.900049</td>\n",
       "    </tr>\n",
       "  </tbody>\n",
       "</table>\n",
       "</div>"
      ],
      "text/plain": [
       "   index           task  predict error.hard_acc  predict error.auc\n",
       "0      2  target-target                   0.830           0.896108\n",
       "1      2  target-target                   0.818           0.902381\n",
       "2      2  target-target                   0.820           0.894975\n",
       "3      2  target-target                   0.804           0.885107\n",
       "4      2  target-target                   0.812           0.893530\n",
       "5      2  target-target                   0.814           0.895107\n",
       "6      2  target-target                   0.824           0.892972\n",
       "7      2  target-target                   0.810           0.891806\n",
       "8      2  target-target                   0.796           0.893333\n",
       "9      2  target-target                   0.814           0.900049"
      ]
     },
     "execution_count": 15,
     "metadata": {},
     "output_type": "execute_result"
    }
   ],
   "source": [
    "proposed_oracle_aggregated_df"
   ]
  },
  {
   "cell_type": "markdown",
   "id": "ebafbb2f",
   "metadata": {},
   "source": [
    "## Combine"
   ]
  },
  {
   "cell_type": "markdown",
   "id": "0dc65447",
   "metadata": {},
   "source": [
    "### AUC"
   ]
  },
  {
   "cell_type": "code",
   "execution_count": 22,
   "id": "d4c5fdda",
   "metadata": {},
   "outputs": [
    {
     "data": {
      "text/html": [
       "<div>\n",
       "<style scoped>\n",
       "    .dataframe tbody tr th:only-of-type {\n",
       "        vertical-align: middle;\n",
       "    }\n",
       "\n",
       "    .dataframe tbody tr th {\n",
       "        vertical-align: top;\n",
       "    }\n",
       "\n",
       "    .dataframe thead th {\n",
       "        text-align: right;\n",
       "    }\n",
       "</style>\n",
       "<table border=\"1\" class=\"dataframe\">\n",
       "  <thead>\n",
       "    <tr style=\"text-align: right;\">\n",
       "      <th></th>\n",
       "      <th>source -&gt; target auc</th>\n",
       "    </tr>\n",
       "    <tr>\n",
       "      <th>approach</th>\n",
       "      <th></th>\n",
       "    </tr>\n",
       "  </thead>\n",
       "  <tbody>\n",
       "    <tr>\n",
       "      <th>ERM</th>\n",
       "      <td>0.773 (0.000)</td>\n",
       "    </tr>\n",
       "    <tr>\n",
       "      <th>COVAR</th>\n",
       "      <td>0.776 (0.000)</td>\n",
       "    </tr>\n",
       "    <tr>\n",
       "      <th>LABEL</th>\n",
       "      <td>0.789 (0.001)</td>\n",
       "    </tr>\n",
       "    <tr>\n",
       "      <th>Proposed</th>\n",
       "      <td>0.884 (0.005)</td>\n",
       "    </tr>\n",
       "    <tr>\n",
       "      <th>ORACLE</th>\n",
       "      <td>0.852 (0.000)</td>\n",
       "    </tr>\n",
       "    <tr>\n",
       "      <th>ORACLE (Proposed)</th>\n",
       "      <td>0.895 (0.005)</td>\n",
       "    </tr>\n",
       "  </tbody>\n",
       "</table>\n",
       "</div>"
      ],
      "text/plain": [
       "                  source -> target auc\n",
       "approach                              \n",
       "ERM                      0.773 (0.000)\n",
       "COVAR                    0.776 (0.000)\n",
       "LABEL                    0.789 (0.001)\n",
       "Proposed                 0.884 (0.005)\n",
       "ORACLE                   0.852 (0.000)\n",
       "ORACLE (Proposed)        0.895 (0.005)"
      ]
     },
     "execution_count": 22,
     "metadata": {},
     "output_type": "execute_result"
    }
   ],
   "source": [
    "FINAL_RESULTS_AUC = aggregated_df.loc[['ERM', 'COVAR', 'LABEL'], [\"source -> target auc\"]]\n",
    "mean = proposed_aggregated_df['predict error.auc'].mean()\n",
    "std = proposed_aggregated_df['predict error.auc'].std()\n",
    "oracle_mean = proposed_oracle_aggregated_df['predict error.auc'].mean()\n",
    "oracle_std = proposed_oracle_aggregated_df['predict error.auc'].std()\n",
    "FINAL_RESULTS_AUC.loc['Proposed', \"source -> target auc\"] = f\"{mean:.3f} ({std:.3f})\"\n",
    "FINAL_RESULTS_AUC.loc['ORACLE', \"source -> target auc\"] = aggregated_df.loc['ERM', \"target -> target auc\"]\n",
    "FINAL_RESULTS_AUC.loc['ORACLE (Proposed)', \"source -> target auc\"] = f\"{oracle_mean:.3f} ({oracle_std:.3f})\"\n",
    "FINAL_RESULTS_AUC"
   ]
  },
  {
   "cell_type": "markdown",
   "id": "9ca056e8",
   "metadata": {},
   "source": [
    "### Accuracy"
   ]
  },
  {
   "cell_type": "code",
   "execution_count": 18,
   "id": "e57f7d68",
   "metadata": {},
   "outputs": [
    {
     "data": {
      "text/html": [
       "<div>\n",
       "<style scoped>\n",
       "    .dataframe tbody tr th:only-of-type {\n",
       "        vertical-align: middle;\n",
       "    }\n",
       "\n",
       "    .dataframe tbody tr th {\n",
       "        vertical-align: top;\n",
       "    }\n",
       "\n",
       "    .dataframe thead th {\n",
       "        text-align: right;\n",
       "    }\n",
       "</style>\n",
       "<table border=\"1\" class=\"dataframe\">\n",
       "  <thead>\n",
       "    <tr style=\"text-align: right;\">\n",
       "      <th></th>\n",
       "      <th>source -&gt; target acc</th>\n",
       "    </tr>\n",
       "    <tr>\n",
       "      <th>approach</th>\n",
       "      <th></th>\n",
       "    </tr>\n",
       "  </thead>\n",
       "  <tbody>\n",
       "    <tr>\n",
       "      <th>ERM</th>\n",
       "      <td>0.794 (0.000)</td>\n",
       "    </tr>\n",
       "    <tr>\n",
       "      <th>COVAR</th>\n",
       "      <td>0.796 (0.000)</td>\n",
       "    </tr>\n",
       "    <tr>\n",
       "      <th>LABEL</th>\n",
       "      <td>0.802 (0.000)</td>\n",
       "    </tr>\n",
       "    <tr>\n",
       "      <th>Proposed</th>\n",
       "      <td>0.803 (0.010)</td>\n",
       "    </tr>\n",
       "    <tr>\n",
       "      <th>ORACLE</th>\n",
       "      <td>0.858 (0.000)</td>\n",
       "    </tr>\n",
       "    <tr>\n",
       "      <th>ORACLE (Proposed)</th>\n",
       "      <td>0.814 (0.010)</td>\n",
       "    </tr>\n",
       "  </tbody>\n",
       "</table>\n",
       "</div>"
      ],
      "text/plain": [
       "                  source -> target acc\n",
       "approach                              \n",
       "ERM                      0.794 (0.000)\n",
       "COVAR                    0.796 (0.000)\n",
       "LABEL                    0.802 (0.000)\n",
       "Proposed                 0.803 (0.010)\n",
       "ORACLE                   0.858 (0.000)\n",
       "ORACLE (Proposed)        0.814 (0.010)"
      ]
     },
     "execution_count": 18,
     "metadata": {},
     "output_type": "execute_result"
    }
   ],
   "source": [
    "FINAL_RESULTS_ACC = aggregated_df.loc[['ERM', 'COVAR', 'LABEL'], [\"source -> target acc\"]]\n",
    "mean = proposed_aggregated_df['predict error.hard_acc'].mean()\n",
    "std = proposed_aggregated_df['predict error.hard_acc'].std()\n",
    "oracle_mean = proposed_oracle_aggregated_df['predict error.hard_acc'].mean()\n",
    "oracle_std = proposed_oracle_aggregated_df['predict error.hard_acc'].std()\n",
    "FINAL_RESULTS_ACC.loc['Proposed', \"source -> target acc\"] = f\"{mean:.3f} ({std:.3f})\"\n",
    "FINAL_RESULTS_ACC.loc['ORACLE', \"source -> target acc\"] = aggregated_df.loc['ERM', \"target -> target acc\"]\n",
    "FINAL_RESULTS_ACC.loc['ORACLE (Proposed)', \"source -> target acc\"] = f\"{oracle_mean:.3f} ({oracle_std:.3f})\"\n",
    "\n",
    "FINAL_RESULTS_ACC"
   ]
  },
  {
   "cell_type": "code",
   "execution_count": null,
   "id": "238c5336",
   "metadata": {},
   "outputs": [],
   "source": []
  },
  {
   "cell_type": "code",
   "execution_count": 24,
   "id": "c52c675a",
   "metadata": {},
   "outputs": [
    {
     "name": "stdout",
     "output_type": "stream",
     "text": [
      "\\begin{tabular}{ll}\n",
      "\\toprule\n",
      "{} & source -> target auc \\\\\n",
      "approach          &                      \\\\\n",
      "\\midrule\n",
      "ERM               &        0.773 (0.000) \\\\\n",
      "COVAR             &        0.776 (0.000) \\\\\n",
      "LABEL             &        0.789 (0.001) \\\\\n",
      "Proposed          &        0.884 (0.005) \\\\\n",
      "ORACLE            &        0.852 (0.000) \\\\\n",
      "ORACLE (Proposed) &        0.895 (0.005) \\\\\n",
      "\\bottomrule\n",
      "\\end{tabular}\n",
      "\n"
     ]
    },
    {
     "name": "stderr",
     "output_type": "stream",
     "text": [
      "/srv/condor/execute/dir_2437/ipykernel_3271/1705625207.py:1: FutureWarning: In future versions `DataFrame.to_latex` is expected to utilise the base implementation of `Styler.to_latex` for formatting and rendering. The arguments signature may therefore change. It is recommended instead to use `DataFrame.style.to_latex` which also contains additional functionality.\n",
      "  print(FINAL_RESULTS_AUC.to_latex())\n"
     ]
    }
   ],
   "source": [
    "print(FINAL_RESULTS_AUC.to_latex())"
   ]
  },
  {
   "cell_type": "code",
   "execution_count": null,
   "id": "38421c34",
   "metadata": {},
   "outputs": [],
   "source": []
  }
 ],
 "metadata": {
  "kernelspec": {
   "display_name": "lsa",
   "language": "python",
   "name": "lsa"
  },
  "language_info": {
   "codemirror_mode": {
    "name": "ipython",
    "version": 3
   },
   "file_extension": ".py",
   "mimetype": "text/x-python",
   "name": "python",
   "nbconvert_exporter": "python",
   "pygments_lexer": "ipython3",
   "version": "3.8.15"
  }
 },
 "nbformat": 4,
 "nbformat_minor": 5
}
