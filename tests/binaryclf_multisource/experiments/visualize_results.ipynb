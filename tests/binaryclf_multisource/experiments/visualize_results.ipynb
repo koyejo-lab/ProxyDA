{
 "cells": [
  {
   "cell_type": "code",
   "execution_count": 1,
   "metadata": {},
   "outputs": [],
   "source": [
    "import os\n",
    "import pandas as pd"
   ]
  },
  {
   "cell_type": "code",
   "execution_count": 2,
   "metadata": {},
   "outputs": [],
   "source": [
    "approach_map = {\n",
    "    \"target-target\": \"ORACLE\",\n",
    "    \"MLP cat\": \"Cat-ERM\",\n",
    "    \"MLP uniform\": \"Avg-ERM\",\n",
    "    \"Multisource SA\": \"SA\",\n",
    "    \"Multisource SVM\": \"MK\",\n",
    "    \"Multisource WCSC\": \"WCSC\",\n",
    "    \"adaptation\": \"Proposed\",\n",
    "}"
   ]
  },
  {
   "cell_type": "code",
   "execution_count": 3,
   "metadata": {},
   "outputs": [],
   "source": [
    "def load_results(path):\n",
    "    baseline_df = pd.read_csv(\n",
    "        os.path.join(path, \"multienv_classification_baseline.csv\"))\n",
    "    proposed_df = pd.read_csv(\n",
    "        os.path.join(path, \"multienv_classification.csv\"))\n",
    "    proposed_df.rename({\n",
    "        \"task\": \"approach\",\n",
    "        \"predict error.hard_acc\": \"acc\",\n",
    "        \"predict error.auc\": \"aucroc\",\n",
    "        }, axis=1, inplace=True)\n",
    "    proposed_df.drop(\"env_id\", axis=1, inplace=True)\n",
    "\n",
    "    return pd.concat([baseline_df, proposed_df], axis=0).reset_index(drop=True)"
   ]
  },
  {
   "cell_type": "code",
   "execution_count": 8,
   "metadata": {},
   "outputs": [],
   "source": [
    "def summarize(path, task):\n",
    "    df = load_results(os.path.join(path, f\"task{task}\"))\n",
    "    df_groupby = df.groupby(\"approach\")\n",
    "\n",
    "    summary = []\n",
    "    pretty_dict = {}\n",
    "    pretty_dict[\"Task\"] = f\"Task {task}\"\n",
    "    for approach in approach_map.keys():\n",
    "        pretty_dict[approach_map[approach]] = \"{:.4f} ({:.4f})\".format(\n",
    "            df_groupby.mean().loc[approach, \"aucroc\"],\n",
    "            df_groupby.std().loc[approach, \"aucroc\"],\n",
    "        )\n",
    "    summary.append(pretty_dict)\n",
    "\n",
    "    return pd.DataFrame.from_records(summary)\n"
   ]
  },
  {
   "cell_type": "markdown",
   "metadata": {},
   "source": [
    "# Load previously-generated data and hyperparameters from Google Drive"
   ]
  },
  {
   "cell_type": "code",
   "execution_count": 37,
   "metadata": {},
   "outputs": [
    {
     "data": {
      "text/html": [
       "<div>\n",
       "<style scoped>\n",
       "    .dataframe tbody tr th:only-of-type {\n",
       "        vertical-align: middle;\n",
       "    }\n",
       "\n",
       "    .dataframe tbody tr th {\n",
       "        vertical-align: top;\n",
       "    }\n",
       "\n",
       "    .dataframe thead th {\n",
       "        text-align: right;\n",
       "    }\n",
       "</style>\n",
       "<table border=\"1\" class=\"dataframe\">\n",
       "  <thead>\n",
       "    <tr style=\"text-align: right;\">\n",
       "      <th></th>\n",
       "      <th>Task</th>\n",
       "      <th>ORACLE</th>\n",
       "      <th>Cat-ERM</th>\n",
       "      <th>Avg-ERM</th>\n",
       "      <th>SA</th>\n",
       "      <th>MK</th>\n",
       "      <th>WCSC</th>\n",
       "      <th>Proposed</th>\n",
       "    </tr>\n",
       "  </thead>\n",
       "  <tbody>\n",
       "    <tr>\n",
       "      <th>0</th>\n",
       "      <td>Task 1</td>\n",
       "      <td>0.9413 (0.0062)</td>\n",
       "      <td>0.8065 (0.0161)</td>\n",
       "      <td>0.7993 (0.0165)</td>\n",
       "      <td>0.7995 (0.0165)</td>\n",
       "      <td>0.6233 (0.0419)</td>\n",
       "      <td>0.5326 (0.0156)</td>\n",
       "      <td>0.5863 (0.0300)</td>\n",
       "    </tr>\n",
       "    <tr>\n",
       "      <th>1</th>\n",
       "      <td>Task 2</td>\n",
       "      <td>0.9377 (0.0052)</td>\n",
       "      <td>0.9145 (0.0078)</td>\n",
       "      <td>0.9148 (0.0087)</td>\n",
       "      <td>0.9148 (0.0087)</td>\n",
       "      <td>0.8714 (0.0086)</td>\n",
       "      <td>0.9079 (0.0105)</td>\n",
       "      <td>0.9349 (0.0071)</td>\n",
       "    </tr>\n",
       "    <tr>\n",
       "      <th>2</th>\n",
       "      <td>Task 3</td>\n",
       "      <td>0.8915 (0.0128)</td>\n",
       "      <td>0.8481 (0.0130)</td>\n",
       "      <td>0.8430 (0.0129)</td>\n",
       "      <td>0.8406 (0.0133)</td>\n",
       "      <td>0.8161 (0.0233)</td>\n",
       "      <td>0.7532 (0.0345)</td>\n",
       "      <td>0.7640 (0.0102)</td>\n",
       "    </tr>\n",
       "  </tbody>\n",
       "</table>\n",
       "</div>"
      ],
      "text/plain": [
       "     Task           ORACLE          Cat-ERM          Avg-ERM               SA  \\\n",
       "0  Task 1  0.9413 (0.0062)  0.8065 (0.0161)  0.7993 (0.0165)  0.7995 (0.0165)   \n",
       "1  Task 2  0.9377 (0.0052)  0.9145 (0.0078)  0.9148 (0.0087)  0.9148 (0.0087)   \n",
       "2  Task 3  0.8915 (0.0128)  0.8481 (0.0130)  0.8430 (0.0129)  0.8406 (0.0133)   \n",
       "\n",
       "                MK             WCSC         Proposed  \n",
       "0  0.6233 (0.0419)  0.5326 (0.0156)  0.5863 (0.0300)  \n",
       "1  0.8714 (0.0086)  0.9079 (0.0105)  0.9349 (0.0071)  \n",
       "2  0.8161 (0.0233)  0.7532 (0.0345)  0.7640 (0.0102)  "
      ]
     },
     "execution_count": 37,
     "metadata": {},
     "output_type": "execute_result"
    }
   ],
   "source": [
    "results_dir = \"results_load_params\"\n",
    "\n",
    "summary = pd.DataFrame()\n",
    "for t in range(1, 4):\n",
    "    summary = pd.concat([summary, summarize(results_dir, t)], axis=0)\n",
    "summary.reset_index(drop=True, inplace=True)\n",
    "summary"
   ]
  },
  {
   "cell_type": "markdown",
   "metadata": {},
   "source": [
    "# Load previously-generated data from Google Drive"
   ]
  },
  {
   "cell_type": "markdown",
   "metadata": {},
   "source": [
    "## Multiple seed model selection"
   ]
  },
  {
   "cell_type": "code",
   "execution_count": 40,
   "metadata": {},
   "outputs": [
    {
     "data": {
      "text/html": [
       "<div>\n",
       "<style scoped>\n",
       "    .dataframe tbody tr th:only-of-type {\n",
       "        vertical-align: middle;\n",
       "    }\n",
       "\n",
       "    .dataframe tbody tr th {\n",
       "        vertical-align: top;\n",
       "    }\n",
       "\n",
       "    .dataframe thead th {\n",
       "        text-align: right;\n",
       "    }\n",
       "</style>\n",
       "<table border=\"1\" class=\"dataframe\">\n",
       "  <thead>\n",
       "    <tr style=\"text-align: right;\">\n",
       "      <th></th>\n",
       "      <th>Task</th>\n",
       "      <th>ORACLE</th>\n",
       "      <th>Cat-ERM</th>\n",
       "      <th>Avg-ERM</th>\n",
       "      <th>SA</th>\n",
       "      <th>MK</th>\n",
       "      <th>WCSC</th>\n",
       "      <th>Proposed</th>\n",
       "    </tr>\n",
       "  </thead>\n",
       "  <tbody>\n",
       "    <tr>\n",
       "      <th>0</th>\n",
       "      <td>Task 1</td>\n",
       "      <td>0.9422 (0.0078)</td>\n",
       "      <td>0.8065 (0.0161)</td>\n",
       "      <td>0.7993 (0.0165)</td>\n",
       "      <td>0.7983 (0.0173)</td>\n",
       "      <td>0.6807 (0.0897)</td>\n",
       "      <td>0.5597 (0.0509)</td>\n",
       "      <td>0.7302 (0.1450)</td>\n",
       "    </tr>\n",
       "  </tbody>\n",
       "</table>\n",
       "</div>"
      ],
      "text/plain": [
       "     Task           ORACLE          Cat-ERM          Avg-ERM               SA  \\\n",
       "0  Task 1  0.9422 (0.0078)  0.8065 (0.0161)  0.7993 (0.0165)  0.7983 (0.0173)   \n",
       "\n",
       "                MK             WCSC         Proposed  \n",
       "0  0.6807 (0.0897)  0.5597 (0.0509)  0.7302 (0.1450)  "
      ]
     },
     "execution_count": 40,
     "metadata": {},
     "output_type": "execute_result"
    }
   ],
   "source": [
    "results_dir = \"results_load_drive/multiseed192\"\n",
    "\n",
    "summary = pd.DataFrame()\n",
    "for t in range(1, 4, 3):\n",
    "    summary = pd.concat([summary, summarize(results_dir, t)], axis=0)\n",
    "summary.reset_index(drop=True, inplace=True)\n",
    "summary"
   ]
  },
  {
   "cell_type": "markdown",
   "metadata": {},
   "source": [
    "## Single seed model selection"
   ]
  },
  {
   "cell_type": "code",
   "execution_count": 38,
   "metadata": {},
   "outputs": [
    {
     "data": {
      "text/html": [
       "<div>\n",
       "<style scoped>\n",
       "    .dataframe tbody tr th:only-of-type {\n",
       "        vertical-align: middle;\n",
       "    }\n",
       "\n",
       "    .dataframe tbody tr th {\n",
       "        vertical-align: top;\n",
       "    }\n",
       "\n",
       "    .dataframe thead th {\n",
       "        text-align: right;\n",
       "    }\n",
       "</style>\n",
       "<table border=\"1\" class=\"dataframe\">\n",
       "  <thead>\n",
       "    <tr style=\"text-align: right;\">\n",
       "      <th></th>\n",
       "      <th>Task</th>\n",
       "      <th>ORACLE</th>\n",
       "      <th>Cat-ERM</th>\n",
       "      <th>Avg-ERM</th>\n",
       "      <th>SA</th>\n",
       "      <th>MK</th>\n",
       "      <th>WCSC</th>\n",
       "      <th>Proposed</th>\n",
       "    </tr>\n",
       "  </thead>\n",
       "  <tbody>\n",
       "    <tr>\n",
       "      <th>0</th>\n",
       "      <td>Task 1</td>\n",
       "      <td>0.9434 (0.0096)</td>\n",
       "      <td>0.8065 (0.0161)</td>\n",
       "      <td>0.7993 (0.0165)</td>\n",
       "      <td>0.7967 (0.0171)</td>\n",
       "      <td>0.6233 (0.0419)</td>\n",
       "      <td>0.5326 (0.0156)</td>\n",
       "      <td>0.8701 (0.0218)</td>\n",
       "    </tr>\n",
       "  </tbody>\n",
       "</table>\n",
       "</div>"
      ],
      "text/plain": [
       "     Task           ORACLE          Cat-ERM          Avg-ERM               SA  \\\n",
       "0  Task 1  0.9434 (0.0096)  0.8065 (0.0161)  0.7993 (0.0165)  0.7967 (0.0171)   \n",
       "\n",
       "                MK             WCSC         Proposed  \n",
       "0  0.6233 (0.0419)  0.5326 (0.0156)  0.8701 (0.0218)  "
      ]
     },
     "execution_count": 38,
     "metadata": {},
     "output_type": "execute_result"
    }
   ],
   "source": [
    "results_dir = \"results_load_drive/seed192\"\n",
    "\n",
    "summary = pd.DataFrame()\n",
    "for t in range(1, 4, 3):\n",
    "    summary = pd.concat([summary, summarize(results_dir, t)], axis=0)\n",
    "summary.reset_index(drop=True, inplace=True)\n",
    "summary"
   ]
  },
  {
   "cell_type": "markdown",
   "metadata": {},
   "source": [
    "# Load data generated with the original data-generating code"
   ]
  },
  {
   "cell_type": "markdown",
   "metadata": {},
   "source": [
    "## Multiple seed model selection"
   ]
  },
  {
   "cell_type": "code",
   "execution_count": 30,
   "metadata": {},
   "outputs": [
    {
     "data": {
      "text/html": [
       "<div>\n",
       "<style scoped>\n",
       "    .dataframe tbody tr th:only-of-type {\n",
       "        vertical-align: middle;\n",
       "    }\n",
       "\n",
       "    .dataframe tbody tr th {\n",
       "        vertical-align: top;\n",
       "    }\n",
       "\n",
       "    .dataframe thead th {\n",
       "        text-align: right;\n",
       "    }\n",
       "</style>\n",
       "<table border=\"1\" class=\"dataframe\">\n",
       "  <thead>\n",
       "    <tr style=\"text-align: right;\">\n",
       "      <th></th>\n",
       "      <th>Task</th>\n",
       "      <th>ORACLE</th>\n",
       "      <th>Cat-ERM</th>\n",
       "      <th>Avg-ERM</th>\n",
       "      <th>SA</th>\n",
       "      <th>MK</th>\n",
       "      <th>WCSC</th>\n",
       "      <th>Proposed</th>\n",
       "    </tr>\n",
       "  </thead>\n",
       "  <tbody>\n",
       "    <tr>\n",
       "      <th>0</th>\n",
       "      <td>Task 1</td>\n",
       "      <td>0.9445 (0.0047)</td>\n",
       "      <td>0.8083 (0.0207)</td>\n",
       "      <td>0.8003 (0.0207)</td>\n",
       "      <td>0.8001 (0.0205)</td>\n",
       "      <td>0.6916 (0.0868)</td>\n",
       "      <td>0.5375 (0.0289)</td>\n",
       "      <td>0.6308 (0.0945)</td>\n",
       "    </tr>\n",
       "  </tbody>\n",
       "</table>\n",
       "</div>"
      ],
      "text/plain": [
       "     Task           ORACLE          Cat-ERM          Avg-ERM               SA  \\\n",
       "0  Task 1  0.9445 (0.0047)  0.8083 (0.0207)  0.8003 (0.0207)  0.8001 (0.0205)   \n",
       "\n",
       "                MK             WCSC         Proposed  \n",
       "0  0.6916 (0.0868)  0.5375 (0.0289)  0.6308 (0.0945)  "
      ]
     },
     "execution_count": 30,
     "metadata": {},
     "output_type": "execute_result"
    }
   ],
   "source": [
    "results_dir = \"results_load_orig/multiseed192\"\n",
    "\n",
    "summary = pd.DataFrame()\n",
    "for t in range(1, 4, 3):\n",
    "    summary = pd.concat([summary, summarize(results_dir, t)], axis=0)\n",
    "summary"
   ]
  },
  {
   "cell_type": "code",
   "execution_count": 31,
   "metadata": {},
   "outputs": [
    {
     "data": {
      "text/html": [
       "<div>\n",
       "<style scoped>\n",
       "    .dataframe tbody tr th:only-of-type {\n",
       "        vertical-align: middle;\n",
       "    }\n",
       "\n",
       "    .dataframe tbody tr th {\n",
       "        vertical-align: top;\n",
       "    }\n",
       "\n",
       "    .dataframe thead th {\n",
       "        text-align: right;\n",
       "    }\n",
       "</style>\n",
       "<table border=\"1\" class=\"dataframe\">\n",
       "  <thead>\n",
       "    <tr style=\"text-align: right;\">\n",
       "      <th></th>\n",
       "      <th>Task</th>\n",
       "      <th>ORACLE</th>\n",
       "      <th>Cat-ERM</th>\n",
       "      <th>Avg-ERM</th>\n",
       "      <th>SA</th>\n",
       "      <th>MK</th>\n",
       "      <th>WCSC</th>\n",
       "      <th>Proposed</th>\n",
       "    </tr>\n",
       "  </thead>\n",
       "  <tbody>\n",
       "    <tr>\n",
       "      <th>0</th>\n",
       "      <td>Task 1</td>\n",
       "      <td>0.9430 (0.0057)</td>\n",
       "      <td>0.8017 (0.0144)</td>\n",
       "      <td>0.7912 (0.0114)</td>\n",
       "      <td>0.7908 (0.0113)</td>\n",
       "      <td>0.6924 (0.0673)</td>\n",
       "      <td>0.5269 (0.0136)</td>\n",
       "      <td>0.6910 (0.1366)</td>\n",
       "    </tr>\n",
       "  </tbody>\n",
       "</table>\n",
       "</div>"
      ],
      "text/plain": [
       "     Task           ORACLE          Cat-ERM          Avg-ERM               SA  \\\n",
       "0  Task 1  0.9430 (0.0057)  0.8017 (0.0144)  0.7912 (0.0114)  0.7908 (0.0113)   \n",
       "\n",
       "                MK             WCSC         Proposed  \n",
       "0  0.6924 (0.0673)  0.5269 (0.0136)  0.6910 (0.1366)  "
      ]
     },
     "execution_count": 31,
     "metadata": {},
     "output_type": "execute_result"
    }
   ],
   "source": [
    "results_dir = \"results_load_orig/multiseed1922\"\n",
    "\n",
    "summary = pd.DataFrame()\n",
    "for t in range(1, 4, 3):\n",
    "    summary = pd.concat([summary, summarize(results_dir, t)], axis=0)\n",
    "summary"
   ]
  },
  {
   "cell_type": "markdown",
   "metadata": {},
   "source": [
    "## Single seed model selection"
   ]
  },
  {
   "cell_type": "code",
   "execution_count": 16,
   "metadata": {},
   "outputs": [
    {
     "data": {
      "text/html": [
       "<div>\n",
       "<style scoped>\n",
       "    .dataframe tbody tr th:only-of-type {\n",
       "        vertical-align: middle;\n",
       "    }\n",
       "\n",
       "    .dataframe tbody tr th {\n",
       "        vertical-align: top;\n",
       "    }\n",
       "\n",
       "    .dataframe thead th {\n",
       "        text-align: right;\n",
       "    }\n",
       "</style>\n",
       "<table border=\"1\" class=\"dataframe\">\n",
       "  <thead>\n",
       "    <tr style=\"text-align: right;\">\n",
       "      <th></th>\n",
       "      <th>Task</th>\n",
       "      <th>ORACLE</th>\n",
       "      <th>Cat-ERM</th>\n",
       "      <th>Avg-ERM</th>\n",
       "      <th>SA</th>\n",
       "      <th>MK</th>\n",
       "      <th>WCSC</th>\n",
       "      <th>Proposed</th>\n",
       "    </tr>\n",
       "  </thead>\n",
       "  <tbody>\n",
       "    <tr>\n",
       "      <th>0</th>\n",
       "      <td>Task 1</td>\n",
       "      <td>0.9442 (0.0047)</td>\n",
       "      <td>0.8083 (0.0207)</td>\n",
       "      <td>0.8003 (0.0207)</td>\n",
       "      <td>0.8004 (0.0207)</td>\n",
       "      <td>0.7828 (0.0662)</td>\n",
       "      <td>0.5349 (0.0328)</td>\n",
       "      <td>0.5931 (0.0344)</td>\n",
       "    </tr>\n",
       "  </tbody>\n",
       "</table>\n",
       "</div>"
      ],
      "text/plain": [
       "     Task           ORACLE          Cat-ERM          Avg-ERM               SA  \\\n",
       "0  Task 1  0.9442 (0.0047)  0.8083 (0.0207)  0.8003 (0.0207)  0.8004 (0.0207)   \n",
       "\n",
       "                MK             WCSC         Proposed  \n",
       "0  0.7828 (0.0662)  0.5349 (0.0328)  0.5931 (0.0344)  "
      ]
     },
     "execution_count": 16,
     "metadata": {},
     "output_type": "execute_result"
    }
   ],
   "source": [
    "results_dir = \"results_load_orig/seed192\"\n",
    "\n",
    "summary = pd.DataFrame()\n",
    "for t in range(1, 4, 3):\n",
    "    summary = pd.concat([summary, summarize(results_dir, t)], axis=0)\n",
    "summary"
   ]
  },
  {
   "cell_type": "code",
   "execution_count": 33,
   "metadata": {},
   "outputs": [
    {
     "data": {
      "text/html": [
       "<div>\n",
       "<style scoped>\n",
       "    .dataframe tbody tr th:only-of-type {\n",
       "        vertical-align: middle;\n",
       "    }\n",
       "\n",
       "    .dataframe tbody tr th {\n",
       "        vertical-align: top;\n",
       "    }\n",
       "\n",
       "    .dataframe thead th {\n",
       "        text-align: right;\n",
       "    }\n",
       "</style>\n",
       "<table border=\"1\" class=\"dataframe\">\n",
       "  <thead>\n",
       "    <tr style=\"text-align: right;\">\n",
       "      <th></th>\n",
       "      <th>Task</th>\n",
       "      <th>ORACLE</th>\n",
       "      <th>Cat-ERM</th>\n",
       "      <th>Avg-ERM</th>\n",
       "      <th>SA</th>\n",
       "      <th>MK</th>\n",
       "      <th>WCSC</th>\n",
       "      <th>Proposed</th>\n",
       "    </tr>\n",
       "  </thead>\n",
       "  <tbody>\n",
       "    <tr>\n",
       "      <th>0</th>\n",
       "      <td>Task 1</td>\n",
       "      <td>0.9427 (0.0043)</td>\n",
       "      <td>0.8017 (0.0144)</td>\n",
       "      <td>0.7912 (0.0114)</td>\n",
       "      <td>0.7891 (0.0114)</td>\n",
       "      <td>0.6806 (0.1253)</td>\n",
       "      <td>0.5273 (0.0142)</td>\n",
       "      <td>0.5806 (0.0283)</td>\n",
       "    </tr>\n",
       "  </tbody>\n",
       "</table>\n",
       "</div>"
      ],
      "text/plain": [
       "     Task           ORACLE          Cat-ERM          Avg-ERM               SA  \\\n",
       "0  Task 1  0.9427 (0.0043)  0.8017 (0.0144)  0.7912 (0.0114)  0.7891 (0.0114)   \n",
       "\n",
       "                MK             WCSC         Proposed  \n",
       "0  0.6806 (0.1253)  0.5273 (0.0142)  0.5806 (0.0283)  "
      ]
     },
     "execution_count": 33,
     "metadata": {},
     "output_type": "execute_result"
    }
   ],
   "source": [
    "results_dir = \"results_load_orig/seed1922\"\n",
    "\n",
    "summary = pd.DataFrame()\n",
    "for t in range(1, 4, 3):\n",
    "    summary = pd.concat([summary, summarize(results_dir, t)], axis=0)\n",
    "summary"
   ]
  },
  {
   "cell_type": "markdown",
   "metadata": {},
   "source": [
    "# Run with the new data-generating code"
   ]
  },
  {
   "cell_type": "markdown",
   "metadata": {},
   "source": [
    "## Multiple seed model selection"
   ]
  },
  {
   "cell_type": "code",
   "execution_count": 35,
   "metadata": {},
   "outputs": [
    {
     "data": {
      "text/html": [
       "<div>\n",
       "<style scoped>\n",
       "    .dataframe tbody tr th:only-of-type {\n",
       "        vertical-align: middle;\n",
       "    }\n",
       "\n",
       "    .dataframe tbody tr th {\n",
       "        vertical-align: top;\n",
       "    }\n",
       "\n",
       "    .dataframe thead th {\n",
       "        text-align: right;\n",
       "    }\n",
       "</style>\n",
       "<table border=\"1\" class=\"dataframe\">\n",
       "  <thead>\n",
       "    <tr style=\"text-align: right;\">\n",
       "      <th></th>\n",
       "      <th>Task</th>\n",
       "      <th>ORACLE</th>\n",
       "      <th>Cat-ERM</th>\n",
       "      <th>Avg-ERM</th>\n",
       "      <th>SA</th>\n",
       "      <th>MK</th>\n",
       "      <th>WCSC</th>\n",
       "      <th>Proposed</th>\n",
       "    </tr>\n",
       "  </thead>\n",
       "  <tbody>\n",
       "    <tr>\n",
       "      <th>0</th>\n",
       "      <td>Task 1</td>\n",
       "      <td>0.9437 (0.0082)</td>\n",
       "      <td>0.8065 (0.0161)</td>\n",
       "      <td>0.7993 (0.0165)</td>\n",
       "      <td>0.7995 (0.0165)</td>\n",
       "      <td>0.6215 (0.1018)</td>\n",
       "      <td>0.5325 (0.0152)</td>\n",
       "      <td>0.7514 (0.1405)</td>\n",
       "    </tr>\n",
       "  </tbody>\n",
       "</table>\n",
       "</div>"
      ],
      "text/plain": [
       "     Task           ORACLE          Cat-ERM          Avg-ERM               SA  \\\n",
       "0  Task 1  0.9437 (0.0082)  0.8065 (0.0161)  0.7993 (0.0165)  0.7995 (0.0165)   \n",
       "\n",
       "                MK             WCSC         Proposed  \n",
       "0  0.6215 (0.1018)  0.5325 (0.0152)  0.7514 (0.1405)  "
      ]
     },
     "execution_count": 35,
     "metadata": {},
     "output_type": "execute_result"
    }
   ],
   "source": [
    "results_dir = \"results_gen/multiseed192\"\n",
    "summary = pd.DataFrame()\n",
    "for t in range(1, 4, 3):\n",
    "    summary = pd.concat([summary, summarize(results_dir, t)], axis=0)\n",
    "summary"
   ]
  },
  {
   "cell_type": "code",
   "execution_count": 39,
   "metadata": {},
   "outputs": [
    {
     "data": {
      "text/html": [
       "<div>\n",
       "<style scoped>\n",
       "    .dataframe tbody tr th:only-of-type {\n",
       "        vertical-align: middle;\n",
       "    }\n",
       "\n",
       "    .dataframe tbody tr th {\n",
       "        vertical-align: top;\n",
       "    }\n",
       "\n",
       "    .dataframe thead th {\n",
       "        text-align: right;\n",
       "    }\n",
       "</style>\n",
       "<table border=\"1\" class=\"dataframe\">\n",
       "  <thead>\n",
       "    <tr style=\"text-align: right;\">\n",
       "      <th></th>\n",
       "      <th>Task</th>\n",
       "      <th>ORACLE</th>\n",
       "      <th>Cat-ERM</th>\n",
       "      <th>Avg-ERM</th>\n",
       "      <th>SA</th>\n",
       "      <th>MK</th>\n",
       "      <th>WCSC</th>\n",
       "      <th>Proposed</th>\n",
       "    </tr>\n",
       "  </thead>\n",
       "  <tbody>\n",
       "    <tr>\n",
       "      <th>0</th>\n",
       "      <td>Task 1</td>\n",
       "      <td>0.9407 (0.0032)</td>\n",
       "      <td>0.8122 (0.0112)</td>\n",
       "      <td>0.8052 (0.0157)</td>\n",
       "      <td>0.8051 (0.0155)</td>\n",
       "      <td>0.6876 (0.0497)</td>\n",
       "      <td>0.5517 (0.0197)</td>\n",
       "      <td>0.6063 (0.0311)</td>\n",
       "    </tr>\n",
       "  </tbody>\n",
       "</table>\n",
       "</div>"
      ],
      "text/plain": [
       "     Task           ORACLE          Cat-ERM          Avg-ERM               SA  \\\n",
       "0  Task 1  0.9407 (0.0032)  0.8122 (0.0112)  0.8052 (0.0157)  0.8051 (0.0155)   \n",
       "\n",
       "                MK             WCSC         Proposed  \n",
       "0  0.6876 (0.0497)  0.5517 (0.0197)  0.6063 (0.0311)  "
      ]
     },
     "execution_count": 39,
     "metadata": {},
     "output_type": "execute_result"
    }
   ],
   "source": [
    "results_dir = \"results_gen/multiseed1922\"\n",
    "summary = pd.DataFrame()\n",
    "for t in range(1, 4, 3):\n",
    "    summary = pd.concat([summary, summarize(results_dir, t)], axis=0)\n",
    "summary"
   ]
  },
  {
   "cell_type": "markdown",
   "metadata": {},
   "source": [
    "## Single seed model selection"
   ]
  },
  {
   "cell_type": "code",
   "execution_count": 17,
   "metadata": {},
   "outputs": [
    {
     "data": {
      "text/html": [
       "<div>\n",
       "<style scoped>\n",
       "    .dataframe tbody tr th:only-of-type {\n",
       "        vertical-align: middle;\n",
       "    }\n",
       "\n",
       "    .dataframe tbody tr th {\n",
       "        vertical-align: top;\n",
       "    }\n",
       "\n",
       "    .dataframe thead th {\n",
       "        text-align: right;\n",
       "    }\n",
       "</style>\n",
       "<table border=\"1\" class=\"dataframe\">\n",
       "  <thead>\n",
       "    <tr style=\"text-align: right;\">\n",
       "      <th></th>\n",
       "      <th>Task</th>\n",
       "      <th>ORACLE</th>\n",
       "      <th>Cat-ERM</th>\n",
       "      <th>Avg-ERM</th>\n",
       "      <th>SA</th>\n",
       "      <th>MK</th>\n",
       "      <th>WCSC</th>\n",
       "      <th>Proposed</th>\n",
       "    </tr>\n",
       "  </thead>\n",
       "  <tbody>\n",
       "    <tr>\n",
       "      <th>0</th>\n",
       "      <td>Task 1</td>\n",
       "      <td>0.9443 (0.0062)</td>\n",
       "      <td>0.7891 (0.0297)</td>\n",
       "      <td>0.7796 (0.0266)</td>\n",
       "      <td>0.7797 (0.0266)</td>\n",
       "      <td>0.6001 (0.0613)</td>\n",
       "      <td>0.5057 (0.0299)</td>\n",
       "      <td>0.5686 (0.0358)</td>\n",
       "    </tr>\n",
       "  </tbody>\n",
       "</table>\n",
       "</div>"
      ],
      "text/plain": [
       "     Task           ORACLE          Cat-ERM          Avg-ERM               SA  \\\n",
       "0  Task 1  0.9443 (0.0062)  0.7891 (0.0297)  0.7796 (0.0266)  0.7797 (0.0266)   \n",
       "\n",
       "                MK             WCSC         Proposed  \n",
       "0  0.6001 (0.0613)  0.5057 (0.0299)  0.5686 (0.0358)  "
      ]
     },
     "execution_count": 17,
     "metadata": {},
     "output_type": "execute_result"
    }
   ],
   "source": [
    "results_dir = \"results_gen/seed192\"\n",
    "summary = pd.DataFrame()\n",
    "for t in range(1, 4, 3):\n",
    "    summary = pd.concat([summary, summarize(results_dir, t)], axis=0)\n",
    "summary"
   ]
  },
  {
   "cell_type": "code",
   "execution_count": 34,
   "metadata": {},
   "outputs": [
    {
     "data": {
      "text/html": [
       "<div>\n",
       "<style scoped>\n",
       "    .dataframe tbody tr th:only-of-type {\n",
       "        vertical-align: middle;\n",
       "    }\n",
       "\n",
       "    .dataframe tbody tr th {\n",
       "        vertical-align: top;\n",
       "    }\n",
       "\n",
       "    .dataframe thead th {\n",
       "        text-align: right;\n",
       "    }\n",
       "</style>\n",
       "<table border=\"1\" class=\"dataframe\">\n",
       "  <thead>\n",
       "    <tr style=\"text-align: right;\">\n",
       "      <th></th>\n",
       "      <th>Task</th>\n",
       "      <th>ORACLE</th>\n",
       "      <th>Cat-ERM</th>\n",
       "      <th>Avg-ERM</th>\n",
       "      <th>SA</th>\n",
       "      <th>MK</th>\n",
       "      <th>WCSC</th>\n",
       "      <th>Proposed</th>\n",
       "    </tr>\n",
       "  </thead>\n",
       "  <tbody>\n",
       "    <tr>\n",
       "      <th>0</th>\n",
       "      <td>Task 1</td>\n",
       "      <td>0.9407 (0.0032)</td>\n",
       "      <td>0.8122 (0.0112)</td>\n",
       "      <td>0.8052 (0.0157)</td>\n",
       "      <td>0.8053 (0.0157)</td>\n",
       "      <td>0.7268 (0.0129)</td>\n",
       "      <td>0.5515 (0.0197)</td>\n",
       "      <td>0.6063 (0.0311)</td>\n",
       "    </tr>\n",
       "  </tbody>\n",
       "</table>\n",
       "</div>"
      ],
      "text/plain": [
       "     Task           ORACLE          Cat-ERM          Avg-ERM               SA  \\\n",
       "0  Task 1  0.9407 (0.0032)  0.8122 (0.0112)  0.8052 (0.0157)  0.8053 (0.0157)   \n",
       "\n",
       "                MK             WCSC         Proposed  \n",
       "0  0.7268 (0.0129)  0.5515 (0.0197)  0.6063 (0.0311)  "
      ]
     },
     "execution_count": 34,
     "metadata": {},
     "output_type": "execute_result"
    }
   ],
   "source": [
    "results_dir = \"results_gen/seed1922\"\n",
    "\n",
    "summary = pd.DataFrame()\n",
    "for t in range(1, 4, 3):\n",
    "    summary = pd.concat([summary, summarize(results_dir, t)], axis=0)\n",
    "summary"
   ]
  }
 ],
 "metadata": {
  "kernelspec": {
   "display_name": "proxy",
   "language": "python",
   "name": "python3"
  },
  "language_info": {
   "codemirror_mode": {
    "name": "ipython",
    "version": 3
   },
   "file_extension": ".py",
   "mimetype": "text/x-python",
   "name": "python",
   "nbconvert_exporter": "python",
   "pygments_lexer": "ipython3",
   "version": "3.9.18"
  }
 },
 "nbformat": 4,
 "nbformat_minor": 2
}
